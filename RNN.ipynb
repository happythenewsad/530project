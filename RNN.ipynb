{
 "cells": [
  {
   "cell_type": "markdown",
   "metadata": {},
   "source": [
    "## An RNN classifier for rumoreval that incorporates the scalar and binary features generated for this project. Please go down the cells in order for full understanding."
   ]
  },
  {
   "cell_type": "code",
   "execution_count": 7,
   "metadata": {},
   "outputs": [
    {
     "name": "stdout",
     "output_type": "stream",
     "text": [
      "saving data to output..\n"
     ]
    }
   ],
   "source": [
    "import sys\n",
    "sys.path.insert(1, \"./rnn\")\n",
    "import train\n",
    "import model\n",
    "from FileReader import FileReader\n",
    "classInstance = FileReader\n",
    "classInstance.get_dataframe() #IMPORTANT:  saves a pickle to output/simple or output/full. \n",
    "import sys\n",
    "sys.path.insert(1, \"./feature-extraction/embed-extractor\")\n",
    "#from EmbedExtractor import EmbedExtractor\n",
    "sys.path.insert(1, \"./feature-extraction/vulgar-extractor\")\n",
    "from VulgarExtractor import VulgarExtractor\n",
    "sys.path.insert(1, \"./feature-extraction/twitter-parser\")\n",
    "from TwitterParser import TwitterParser\n",
    "import classifiers\n",
    "import pandas as pd\n",
    "import numpy as np\n",
    "import json"
   ]
  },
  {
   "cell_type": "markdown",
   "metadata": {},
   "source": [
    "## From here, we can pick the attributes that we want to include in our model. All current attributes mentioned in cell below."
   ]
  },
  {
   "cell_type": "code",
   "execution_count": 5,
   "metadata": {
    "collapsed": true
   },
   "outputs": [],
   "source": [
    "attributes = ['isVulgar', 'containsAdjective', 'containsEmoji', 'containsURL'. 'containsAbbreviation', 'wordCount']\n",
    "for tag in TwitterParser.tagset:\n",
    "    attributes.append('num_' + tag)\n",
    "\n",
    "attributes = attributes + ['num_replies', 're_has_?', 're_has_NOT', 're_has_correct',\n",
    " 're_has_credib', 're_has_data', 're_has_detail', 're_has_fabricat', 're_has_lie', 're_has_proof', \n",
    "                  're_has_source', 're_has_witness']\n",
    "\n",
    "# ['opinion', 'user_default_profile',\n",
    "#  'user_favourites_count', 'user_followers_count', 'user_friends_count', 'user_geo_enabled', 'user_listed_count', \n",
    "#  'user_statuses_count', 'user_verified', 'user_created']"
   ]
  },
  {
   "cell_type": "markdown",
   "metadata": {},
   "source": [
    "Additionally, we can now load the word embeddings."
   ]
  },
  {
   "cell_type": "code",
   "execution_count": null,
   "metadata": {
    "collapsed": true
   },
   "outputs": [],
   "source": [
    "#pre-pca word embeddings: 'feature-extraction/embed-extractor/word_embedding_vectors.pickle'\n",
    "#post-pca word embeddings: 'feature-extraction/embed-extractor/word_embedding_vectors_pca.pickle'\n",
    "\n",
    "with open('feature-extraction/embed-extractor/word_embedding_vectors.pickle', 'rb') as pickle_file:\n",
    "    ee = pickle.load(pickle_file)"
   ]
  },
  {
   "cell_type": "markdown",
   "metadata": {},
   "source": [
    "## From here we can define functions that normalize and transform our data suitable for the classifier.\n",
    "\n",
    "## ******Note that you can toggle on/off inclusion of word embeddings through here. Please read code and look for comment that mentions word embeddings.******"
   ]
  },
  {
   "cell_type": "code",
   "execution_count": 18,
   "metadata": {
    "collapsed": true
   },
   "outputs": [],
   "source": [
    "def normalize(column_name, df):\n",
    "    std = df[column_name].std()\n",
    "    norm_col = df[column_name].apply(lambda x: x - std)\n",
    "    df[column_name] = norm_col\n",
    "\n",
    "def labels_and_vectors(file, index=0):\n",
    "    df = pd.read_pickle(file)\n",
    "    \n",
    "    wordlist = VulgarExtractor.vulgarWords(\"feature-extraction/vulgar-extractor/badwords.txt\") \n",
    "    dftext = df[['text']]\n",
    "    result = dftext.applymap(lambda x: VulgarExtractor.containsVulgar(x,wordlist))\n",
    "    df['isVulgar'] = result\n",
    "\n",
    "    word_embeddings = [ee.tweetVec(tagged_line) for tagged_line in df['text']]\n",
    "    textlist = [txt.replace('\\n','') for txt in df['text'].tolist()]\n",
    "    tagged_sents = TwitterParser.tag(textlist)\n",
    "    df['POS'] = tagged_sents\n",
    "\n",
    "    processed_sents = []\n",
    "    for tagged_sent in df['POS']:\n",
    "        processed_words = []\n",
    "        for word, tag in tagged_sent:\n",
    "            if tag == 'U':\n",
    "                processed_words.append('someurl')\n",
    "            elif tag == '@':\n",
    "                processed_words.append('@someuser')\n",
    "            else:\n",
    "                processed_words.append(word)\n",
    "        sent = ' '.join(processed_words)\n",
    "        processed_sents.append(sent)\n",
    "    df['text'] = processed_sents\n",
    "\n",
    "    word_counts = [TwitterParser.word_count(tagged_line) for tagged_line in df['POS']]\n",
    "    pos_count_list = [TwitterParser.pos_counts(tagged_line) for tagged_line in df['POS']]\n",
    "    contains_adjs = [TwitterParser.contains_adjectives(tagged_line) for tagged_line in df['POS']]\n",
    "    contains_urls = [TwitterParser.contains_url(tagged_line) for tagged_line in df['POS']]\n",
    "    contains_emojis = [TwitterParser.contains_emoji(tagged_line) for tagged_line in df['POS']]\n",
    "    contains_abbrevs = [TwitterParser.contains_abbreviation(tagged_line) for tagged_line in df['POS']]\n",
    "\n",
    "    df['wordCount'] = word_counts\n",
    "    df['posCounts'] = pos_count_list\n",
    "    df['containsAdjective'] = contains_adjs\n",
    "    df['containsURL'] = contains_urls\n",
    "    df['containsEmoji'] = contains_emojis\n",
    "    df['containsAbbreviation'] = contains_abbrevs\n",
    "    df['wordEmbedding'] = word_embeddings\n",
    "\n",
    "\n",
    "    for i, tag in enumerate(TwitterParser.tagset):\n",
    "        tag_counts = []\n",
    "        for pos_counts in df['posCounts']:\n",
    "            tag_counts.append(pos_counts[i])\n",
    "        column_name = 'num_' + tag\n",
    "        df[column_name] = tag_counts\n",
    "        normalize(column_name, df)\n",
    "        \n",
    "    # Changes \"true\"/\"false\"/\"unverified\" to numeric values, just like the in the early cells\n",
    "\n",
    "    df.loc[df.classification == 'true', 'classification'] = 1\n",
    "    df.loc[df.classification == 'false', 'classification'] = 2\n",
    "    df.loc[df.classification == 'unverified', 'classification'] = 0\n",
    "\n",
    "    \n",
    "    # getting the labels\n",
    "    labels = df['classification']\n",
    "    labels = [l for l in labels]\n",
    "    labels = np.array(labels)\n",
    "\n",
    "\n",
    "    # getting the values as a list of lists\n",
    "    values = df[attributes].values.tolist()\n",
    "\n",
    "#~~~~~~~~~~~~~~~~~~~~~~~~~~~~~~~~~~~~~~~~~~~~~~~~~~~~~~~~~~~~~~~~~~~~~~~~~~~~~~~~~~~~~~~~~~~~~~~~~~~~~~~~~~~~~~~\n",
    "# UNCOMMENT THIS IN ORDER TO INCOPORATE WORD_EMBEDDINGS AGAIN\n",
    "    #word_embedding_values = df['wordEmbedding'].values.tolist()\n",
    "    #for i,d in enumerate(word_embedding_values):\n",
    "     #   values[i].extend(d)\n",
    "#~~~~~~~~~~~~~~~~~~~~~~~~~~~~~~~~~~~~~~~~~~~~~~~~~~~~~~~~~~~~~~~~~~~~~~~~~~~~~~~~~~~~~~~~~~~~~~~~~~~~~~~~~~~~~~~\n",
    "    values = np.array(values)\n",
    "    if index == 1:\n",
    "        return df.index, values\n",
    "\n",
    "    return labels, values\n"
   ]
  },
  {
   "cell_type": "markdown",
   "metadata": {},
   "source": [
    "## From here, you can set where your training and target data comes from (we just \"call it\" dev_values here). Please maintain the index variable seen in the second line."
   ]
  },
  {
   "cell_type": "code",
   "execution_count": 20,
   "metadata": {
    "collapsed": true
   },
   "outputs": [],
   "source": [
    "tr_labels, tr_values = labels_and_vectors('output/simple/train_data_simple.pickle')\n",
    "indices, dev_values,= labels_and_vectors('output/simple/goldtest_data_simple.pickle', index=1)"
   ]
  },
  {
   "cell_type": "markdown",
   "metadata": {},
   "source": [
    "## Now we can get onto the RNN part!"
   ]
  },
  {
   "cell_type": "code",
   "execution_count": 21,
   "metadata": {
    "collapsed": true
   },
   "outputs": [],
   "source": [
    "## convert to tensor Variable here\n",
    "import torch\n",
    "import torch.nn as nn\n",
    "import helpers\n",
    "from torch.autograd import Variable\n",
    "\n"
   ]
  },
  {
   "cell_type": "code",
   "execution_count": 22,
   "metadata": {
    "collapsed": true
   },
   "outputs": [],
   "source": [
    "n_epochs = 100\n",
    "hidden_size = 20\n",
    "learning_rate = 0.001\n",
    "\n",
    "\n",
    "decoder = model.RNN(len(tr_values[0]), hidden_size=hidden_size, output_size =3)\n",
    "decoder_optimizer = torch.optim.SGD(decoder.parameters(), learning_rate)\n",
    "criterion = nn.NLLLoss()\n"
   ]
  },
  {
   "cell_type": "markdown",
   "metadata": {},
   "source": [
    "Further transformation of data such that we can make it suitable for the torch library."
   ]
  },
  {
   "cell_type": "code",
   "execution_count": 23,
   "metadata": {
    "collapsed": true
   },
   "outputs": [],
   "source": [
    "tvs = [arr.tolist() for arr in tr_values]\n",
    "dvs = [arr.tolist() for arr in tr_values]\n",
    "tls = [l.item() for l in tr_labels]"
   ]
  },
  {
   "cell_type": "markdown",
   "metadata": {},
   "source": [
    "A function that simply turns the vectors into tensors."
   ]
  },
  {
   "cell_type": "code",
   "execution_count": 25,
   "metadata": {
    "collapsed": true
   },
   "outputs": [],
   "source": [
    "def vector_to_tensor(vector):\n",
    "    tensor = torch.zeros(1, len(tvs[0]))\n",
    "    for j in range(len(vector)):\n",
    "        tensor[0][j] = vector[j]\n",
    "    return tensor\n"
   ]
  },
  {
   "cell_type": "markdown",
   "metadata": {},
   "source": [
    "Similar to the pytorch tutorial for RNNs, this is a function that goes through the training data."
   ]
  },
  {
   "cell_type": "code",
   "execution_count": 26,
   "metadata": {
    "collapsed": true
   },
   "outputs": [],
   "source": [
    "def train_all():\n",
    "    for i, label in enumerate(tls):\n",
    "        tensor = vector_to_tensor(tvs[i])  \n",
    "        category_tensor = Variable(torch.LongTensor([label]))\n",
    "        line_tensor = Variable(torch.FloatTensor(tensor))\n",
    "        output, loss = train.train(category_tensor, line_tensor, decoder)\n",
    "        decoder_optimizer.step()\n"
   ]
  },
  {
   "cell_type": "markdown",
   "metadata": {},
   "source": [
    "By executing this script, we train the model get the label predictions."
   ]
  },
  {
   "cell_type": "code",
   "execution_count": 27,
   "metadata": {
    "collapsed": true
   },
   "outputs": [],
   "source": [
    "for i in range(n_epochs):\n",
    "    train_all()\n",
    "\n",
    "predictions=[]\n",
    "\n",
    "for d in dvs:\n",
    "    tensor = vector_to_tensor(d)  \n",
    "    line_tensor = Variable(torch.FloatTensor(tensor))\n",
    "    output = decoder.predict(line_tensor)\n",
    "    predictions.append(output)\n",
    "    \n",
    "\n",
    "\n",
    "ps = []\n",
    "\n",
    "for i, p in enumerate(predictions):\n",
    "    p = p[0][0]\n",
    "    if p == 2:\n",
    "        ps.append('false')\n",
    "    if p == 1:\n",
    "        ps.append('true')\n",
    "    if p == 0:\n",
    "        ps.append('unverified')\n",
    "\n",
    "pred_dict = {index:(ps[i],1) for i,index in enumerate(indices)}"
   ]
  },
  {
   "cell_type": "markdown",
   "metadata": {},
   "source": [
    "## Output to json and scoring script. The first argument is the gold set and the second argument is the predictions you should have generated."
   ]
  },
  {
   "cell_type": "code",
   "execution_count": 30,
   "metadata": {
    "collapsed": true
   },
   "outputs": [],
   "source": [
    "with open('output/rnn/goldtest_rnn.json', 'w') as outfile:\n",
    "    json.dump(pred_dict, outfile)"
   ]
  },
  {
   "cell_type": "code",
   "execution_count": 31,
   "metadata": {
    "scrolled": true
   },
   "outputs": [
    {
     "name": "stdout",
     "output_type": "stream",
     "text": [
      "28 entries in reference file\r\n",
      "matching entry: 775057555865206784\r\n",
      "matching entry: 498486826269548545\r\n",
      "matching entry: 774991078265094144\r\n",
      "matching entry: 524948206023880704\r\n",
      "matching entry: 769988636754505729\r\n",
      "matching entry: 544315472075042818\r\n",
      "matching entry: 524936793633083394\r\n",
      "matching entry: 553561170637238272\r\n",
      "matching entry: 763098277986209792\r\n",
      "matching entry: 498293668655423488\r\n",
      "matching entry: 524941720249978880\r\n",
      "matching entry: 553553288625672192\r\n",
      "matching entry: 764927075522260992\r\n",
      "matching entry: 544274544174071809\r\n",
      "matching entry: 758159624122097664\r\n",
      "matching entry: 552788945017516032\r\n",
      "matching entry: 500280249629036544\r\n",
      "matching entry: 580352273001410560\r\n",
      "matching entry: 500298588992593920\r\n",
      "matching entry: 524923293711998976\r\n",
      "matching entry: 553480082996879360\r\n",
      "matching entry: 544294893146091520\r\n",
      "matching entry: 767725956706414592\r\n",
      "matching entry: 581153923987206146\r\n",
      "matching entry: 581359544682614784\r\n",
      "matching entry: 524961721744900097\r\n",
      "matching entry: 768859780240773121\r\n",
      "matching entry: 581290271997968384\r\n",
      "28 matched entries in submission\r\n",
      "28 entries in reference file\r\n",
      "veracity accuracy: 0.2857142857142857\r\n",
      "Micro F1: 0.285714285714\r\n",
      "confidence rmse:   0.8451542547285166\r\n"
     ]
    }
   ],
   "source": [
    "!python3 scorer/score.py data/semeval2017-task8-dataset/goldtest/subtaskb.json output/rnn/goldtest_rnn.json"
   ]
  }
 ],
 "metadata": {
  "kernelspec": {
   "display_name": "Python 3",
   "language": "python",
   "name": "python3"
  },
  "language_info": {
   "codemirror_mode": {
    "name": "ipython",
    "version": 3
   },
   "file_extension": ".py",
   "mimetype": "text/x-python",
   "name": "python",
   "nbconvert_exporter": "python",
   "pygments_lexer": "ipython3",
   "version": "3.6.1"
  }
 },
 "nbformat": 4,
 "nbformat_minor": 2
}
