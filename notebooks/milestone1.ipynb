{
 "cells": [
  {
   "cell_type": "code",
   "execution_count": 4,
   "metadata": {},
   "outputs": [],
   "source": [
    "import json\n",
    "import math\n",
    "import os.path\n",
    "import sys\n"
   ]
  },
  {
   "cell_type": "code",
   "execution_count": 5,
   "metadata": {
    "collapsed": true
   },
   "outputs": [],
   "source": [
    "#submission = json.load(open('baseline.json', 'r'))\n",
    "referenceData = json.load(open('../data/dev_data/subtaskB-dev.json', 'r'))"
   ]
  },
  {
   "cell_type": "code",
   "execution_count": 6,
   "metadata": {
    "collapsed": true
   },
   "outputs": [],
   "source": [
    "jsn = {}\n",
    "majorityClass = \"false\"\n",
    "for key in referenceData:\n",
    "    jsn[key] = (majorityClass,1)\n",
    "\n",
    "with open('baseline.json', 'w') as outfile:\n",
    "    json.dump(jsn, outfile)"
   ]
  },
  {
   "cell_type": "code",
   "execution_count": 7,
   "metadata": {},
   "outputs": [
    {
     "data": {
      "text/plain": [
       "{'580319078155468800': ['false', 1],\n",
       " '580319184652890113': ['false', 1],\n",
       " '580320684305416192': ['false', 1],\n",
       " '580321156508577792': ['false', 1],\n",
       " '580322453928431617': ['false', 1],\n",
       " '580323060533764097': ['false', 1],\n",
       " '580324027715063808': ['false', 1],\n",
       " '580325090367315968': ['false', 1],\n",
       " '580326222107951104': ['false', 1],\n",
       " '580331561398108160': ['false', 1],\n",
       " '580332109782466561': ['false', 1],\n",
       " '580333763512705025': ['false', 1],\n",
       " '580333909008871424': ['false', 1],\n",
       " '580339547269144576': ['false', 1],\n",
       " '580339825649291264': ['false', 1],\n",
       " '580340476949086208': ['false', 1],\n",
       " '580348081100734464': ['false', 1],\n",
       " '580360165540642816': ['false', 1],\n",
       " '580371845997682688': ['false', 1],\n",
       " '580882341880446977': ['false', 1],\n",
       " '581047170637381632': ['false', 1],\n",
       " '581063377226637312': ['false', 1],\n",
       " '581293286268129280': ['false', 1],\n",
       " '581386094337474560': ['false', 1],\n",
       " '581473088249958400': ['false', 1]}"
      ]
     },
     "execution_count": 7,
     "metadata": {},
     "output_type": "execute_result"
    }
   ],
   "source": []
  },
  {
   "cell_type": "code",
   "execution_count": null,
   "metadata": {
    "collapsed": true
   },
   "outputs": [],
   "source": [
    "score"
   ]
  }
 ],
 "metadata": {
  "kernelspec": {
   "display_name": "Python 3",
   "language": "python",
   "name": "python3"
  },
  "language_info": {
   "codemirror_mode": {
    "name": "ipython",
    "version": 3
   },
   "file_extension": ".py",
   "mimetype": "text/x-python",
   "name": "python",
   "nbconvert_exporter": "python",
   "pygments_lexer": "ipython3",
   "version": "3.6.1"
  }
 },
 "nbformat": 4,
 "nbformat_minor": 1
}
