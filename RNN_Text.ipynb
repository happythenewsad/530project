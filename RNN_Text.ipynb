{
 "cells": [
  {
   "cell_type": "code",
   "execution_count": 1,
   "metadata": {
    "collapsed": true
   },
   "outputs": [],
   "source": [
    "import pandas as pd\n",
    "import sys\n",
    "sys.path.insert(1, \"./rnn_text\")\n",
    "import train\n",
    "import model\n",
    "import helpers\n",
    "import sys\n",
    "sys.path.insert(1, \"./feature-extraction/embed-extractor\")\n",
    "sys.path.insert(1, \"./feature-extraction/vulgar-extractor\")\n",
    "from VulgarExtractor import VulgarExtractor\n",
    "sys.path.insert(1, \"./feature-extraction/twitter-parser\")\n",
    "from TwitterParser import TwitterParser\n",
    "import classifiers\n",
    "import pandas as pd\n",
    "import numpy as np\n",
    "import json\n",
    "import torch\n",
    "import torch.nn as nn\n",
    "import helpers\n",
    "from torch.autograd import Variable\n"
   ]
  },
  {
   "cell_type": "code",
   "execution_count": 2,
   "metadata": {
    "collapsed": true
   },
   "outputs": [],
   "source": [
    "df_tr = pd.read_pickle(\"output/simple/train_data_simple.pickle\")\n",
    "df_dev = pd.read_pickle(\"output/simple/dev_data_simple.pickle\")\n",
    "df_goldtest = pd.read_pickle(\"output/simple/goldtest_data_simple.pickle\")"
   ]
  },
  {
   "cell_type": "code",
   "execution_count": 3,
   "metadata": {
    "collapsed": true
   },
   "outputs": [],
   "source": [
    "df_tr = df_tr['text']\n",
    "df_dev = df_dev['text']\n",
    "df_goldtest = df_goldtest['text']"
   ]
  },
  {
   "cell_type": "code",
   "execution_count": 4,
   "metadata": {
    "collapsed": true
   },
   "outputs": [],
   "source": [
    "import string\n",
    "n_epochs = 2000\n",
    "hidden_size = 20\n",
    "learning_rate = 0.001\n",
    "\n",
    "\n",
    "decoder = model.RNN(len(helpers.all_letters), hidden_size=hidden_size, output_size =3)\n",
    "# Loss function can be changed as an argument?\n",
    "decoder_optimizer = torch.optim.SGD(decoder.parameters(), learning_rate)\n"
   ]
  },
  {
   "cell_type": "code",
   "execution_count": 5,
   "metadata": {
    "collapsed": true
   },
   "outputs": [],
   "source": [
    "# need stuff from main.py to test transformation into Tensors\n",
    "\n",
    "def normalize(column_name, df):\n",
    "    std = df[column_name].std()\n",
    "    norm_col = df[column_name].apply(lambda x: x - std)\n",
    "    df[column_name] = norm_col\n",
    "\n",
    "# builds the labels and vectorizations of given data\n",
    "#if you want to fool around with including/excluding certain features and whatnot, this is the place to do it\n",
    "\n",
    "def labels_and_vectors(file, index=0):\n",
    "    df = pd.read_pickle(file)\n",
    "    \n",
    "    wordlist = VulgarExtractor.vulgarWords(\"feature-extraction/vulgar-extractor/badwords.txt\") \n",
    "    dftext = df[['text']]\n",
    "    result = dftext.applymap(lambda x: VulgarExtractor.containsVulgar(x,wordlist))\n",
    "    df['isVulgar'] = result\n",
    "\n",
    "    #word_embeddings = [ee.tweetVec(tagged_line) for tagged_line in df['text']]\n",
    "    textlist = [txt.replace('\\n','') for txt in df['text'].tolist()]\n",
    "    tagged_sents = TwitterParser.tag(textlist)\n",
    "    df['POS'] = tagged_sents\n",
    "\n",
    "    processed_sents = []\n",
    "    for tagged_sent in df['POS']:\n",
    "        processed_words = []\n",
    "        for word, tag in tagged_sent:\n",
    "            if tag == 'U':\n",
    "                processed_words.append('someurl')\n",
    "            elif tag == '@':\n",
    "                processed_words.append('@someuser')\n",
    "            else:\n",
    "                processed_words.append(word)\n",
    "        sent = ' '.join(processed_words)\n",
    "        processed_sents.append(sent)\n",
    "    df['text'] = processed_sents\n",
    "\n",
    "    word_counts = [TwitterParser.word_count(tagged_line) for tagged_line in df['POS']]\n",
    "    pos_count_list = [TwitterParser.pos_counts(tagged_line) for tagged_line in df['POS']]\n",
    "    contains_adjs = [TwitterParser.contains_adjectives(tagged_line) for tagged_line in df['POS']]\n",
    "    contains_urls = [TwitterParser.contains_url(tagged_line) for tagged_line in df['POS']]\n",
    "    contains_emojis = [TwitterParser.contains_emoji(tagged_line) for tagged_line in df['POS']]\n",
    "    contains_abbrevs = [TwitterParser.contains_abbreviation(tagged_line) for tagged_line in df['POS']]\n",
    "\n",
    "    df['wordCount'] = word_counts\n",
    "    df['posCounts'] = pos_count_list\n",
    "    df['containsAdjective'] = contains_adjs\n",
    "    df['containsURL'] = contains_urls\n",
    "    df['containsEmoji'] = contains_emojis\n",
    "    df['containsAbbreviation'] = contains_abbrevs\n",
    "    #df['wordEmbedding'] = word_embeddings\n",
    "\n",
    "\n",
    "    for i, tag in enumerate(TwitterParser.tagset):\n",
    "        tag_counts = []\n",
    "        for pos_counts in df['posCounts']:\n",
    "            tag_counts.append(pos_counts[i])\n",
    "        column_name = 'num_' + tag\n",
    "        df[column_name] = tag_counts\n",
    "        normalize(column_name, df)\n",
    "        \n",
    "    # Changes \"true\"/\"false\"/\"unverified\" to numeric values, just like the in the early cells\n",
    "\n",
    "    df.loc[df.classification == 'true', 'classification'] = 1\n",
    "    df.loc[df.classification == 'false', 'classification'] = 2\n",
    "    df.loc[df.classification == 'unverified', 'classification'] = 0\n",
    "    # getting the labels\n",
    "\n",
    "    #removed containsURL\n",
    "    attributes = ['text']\n",
    "#     for tag in TwitterParser.tagset:\n",
    "#         attributes.append('num_' + tag)\n",
    "\n",
    "    labels = df['classification']\n",
    "    labels = [l for l in labels]\n",
    "    labels = np.array(labels)\n",
    "\n",
    "\n",
    "    # getting the values as a list of lists\n",
    "    values = df[attributes].values.tolist()\n",
    "    #word_embedding_values = df['wordEmbedding'].values.tolist()\n",
    "\n",
    "\n",
    "    #Below puts the tweet ID as a feature. Comment this out if you aren't using tweetID\n",
    "    ###for i,index in enumerate(df.index):\n",
    "    ###    dev_values[i].append(int(index))\n",
    "\n",
    "\n",
    "# #UNCOMMENT THIS IN ORDER TO INCOPORATE WORD_EMBEDDINGS AGAIN\n",
    "#     for i,d in enumerate(word_embedding_values):\n",
    "#        values[i].extend(d)\n",
    "\n",
    "    values = np.array(values)\n",
    "    if index == 1:\n",
    "        return df.index, values\n",
    "\n",
    "    return labels, values"
   ]
  },
  {
   "cell_type": "code",
   "execution_count": 6,
   "metadata": {
    "collapsed": true
   },
   "outputs": [],
   "source": [
    "tr_labels, tr_values = labels_and_vectors('output/simple/train_data_simple.pickle')\n",
    "indices, dev_values,= labels_and_vectors('output/simple/goldtest_data_simple.pickle', index=1)"
   ]
  },
  {
   "cell_type": "code",
   "execution_count": 7,
   "metadata": {
    "collapsed": true
   },
   "outputs": [],
   "source": [
    "tvs = [arr.tolist() for arr in tr_values]\n",
    "dvs = [arr.tolist() for arr in dev_values]\n",
    "\n",
    "tls = [l.item() for l in tr_labels]"
   ]
  },
  {
   "cell_type": "code",
   "execution_count": 8,
   "metadata": {},
   "outputs": [
    {
     "data": {
      "text/plain": [
       "['Mike Brown was staying with his grandmother for the summer , who lived in the community . #Ferguson']"
      ]
     },
     "execution_count": 8,
     "metadata": {},
     "output_type": "execute_result"
    }
   ],
   "source": [
    "tvs[0]"
   ]
  },
  {
   "cell_type": "code",
   "execution_count": 9,
   "metadata": {},
   "outputs": [
    {
     "name": "stdout",
     "output_type": "stream",
     "text": [
      "torch.Size([99, 1, 100])\n"
     ]
    }
   ],
   "source": [
    "print(helpers.line_to_tensor(tvs[0][0]).size())\n"
   ]
  },
  {
   "cell_type": "code",
   "execution_count": 10,
   "metadata": {
    "collapsed": true
   },
   "outputs": [],
   "source": [
    "def train_all():\n",
    "    for i, label in enumerate(tls):\n",
    "        tensor = helpers.line_to_tensor(tvs[i][0])  \n",
    "        category_tensor = Variable(torch.LongTensor([label]))\n",
    "        line_tensor = Variable(tensor)\n",
    "        output, loss = train.train(category_tensor, line_tensor,decoder)\n",
    "        decoder_optimizer.step()"
   ]
  },
  {
   "cell_type": "code",
   "execution_count": 11,
   "metadata": {},
   "outputs": [],
   "source": [
    "for i in range(50):\n",
    "    train_all()"
   ]
  },
  {
   "cell_type": "code",
   "execution_count": null,
   "metadata": {
    "collapsed": true
   },
   "outputs": [],
   "source": []
  },
  {
   "cell_type": "code",
   "execution_count": 13,
   "metadata": {},
   "outputs": [],
   "source": [
    "predictions = []\n",
    "for d in dvs:\n",
    "    tensor = helpers.line_to_tensor(d)  \n",
    "    line_tensor = Variable(tensor)\n",
    "    output = decoder.predict(line_tensor)\n",
    "    predictions.append(output)"
   ]
  },
  {
   "cell_type": "code",
   "execution_count": 14,
   "metadata": {},
   "outputs": [
    {
     "data": {
      "text/plain": [
       "[\n",
       "  0\n",
       " [torch.LongTensor of size 1x1], \n",
       "  0\n",
       " [torch.LongTensor of size 1x1], \n",
       "  0\n",
       " [torch.LongTensor of size 1x1], \n",
       "  0\n",
       " [torch.LongTensor of size 1x1], \n",
       "  0\n",
       " [torch.LongTensor of size 1x1], \n",
       "  0\n",
       " [torch.LongTensor of size 1x1], \n",
       "  0\n",
       " [torch.LongTensor of size 1x1], \n",
       "  0\n",
       " [torch.LongTensor of size 1x1], \n",
       "  0\n",
       " [torch.LongTensor of size 1x1], \n",
       "  0\n",
       " [torch.LongTensor of size 1x1], \n",
       "  0\n",
       " [torch.LongTensor of size 1x1], \n",
       "  0\n",
       " [torch.LongTensor of size 1x1], \n",
       "  0\n",
       " [torch.LongTensor of size 1x1], \n",
       "  0\n",
       " [torch.LongTensor of size 1x1], \n",
       "  0\n",
       " [torch.LongTensor of size 1x1], \n",
       "  0\n",
       " [torch.LongTensor of size 1x1], \n",
       "  0\n",
       " [torch.LongTensor of size 1x1], \n",
       "  0\n",
       " [torch.LongTensor of size 1x1], \n",
       "  0\n",
       " [torch.LongTensor of size 1x1], \n",
       "  0\n",
       " [torch.LongTensor of size 1x1], \n",
       "  0\n",
       " [torch.LongTensor of size 1x1], \n",
       "  0\n",
       " [torch.LongTensor of size 1x1], \n",
       "  0\n",
       " [torch.LongTensor of size 1x1], \n",
       "  0\n",
       " [torch.LongTensor of size 1x1], \n",
       "  0\n",
       " [torch.LongTensor of size 1x1], \n",
       "  0\n",
       " [torch.LongTensor of size 1x1], \n",
       "  0\n",
       " [torch.LongTensor of size 1x1], \n",
       "  0\n",
       " [torch.LongTensor of size 1x1]]"
      ]
     },
     "execution_count": 14,
     "metadata": {},
     "output_type": "execute_result"
    }
   ],
   "source": [
    "\n",
    "predictions\n",
    "\n",
    "    \n",
    "\n",
    "#print(predictions)\n"
   ]
  },
  {
   "cell_type": "code",
   "execution_count": null,
   "metadata": {
    "collapsed": true
   },
   "outputs": [],
   "source": []
  },
  {
   "cell_type": "code",
   "execution_count": null,
   "metadata": {
    "collapsed": true
   },
   "outputs": [],
   "source": []
  }
 ],
 "metadata": {
  "kernelspec": {
   "display_name": "Python 3",
   "language": "python",
   "name": "python3"
  },
  "language_info": {
   "codemirror_mode": {
    "name": "ipython",
    "version": 3
   },
   "file_extension": ".py",
   "mimetype": "text/x-python",
   "name": "python",
   "nbconvert_exporter": "python",
   "pygments_lexer": "ipython3",
   "version": "3.6.1"
  }
 },
 "nbformat": 4,
 "nbformat_minor": 2
}
